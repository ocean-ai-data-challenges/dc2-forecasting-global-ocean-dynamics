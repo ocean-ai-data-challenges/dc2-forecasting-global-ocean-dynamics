{
 "cells": [
  {
   "cell_type": "markdown",
   "id": "0d1d4339",
   "metadata": {},
   "source": [
    "# DC2 - Forecasting Global Ocean Dynamics"
   ]
  },
  {
   "cell_type": "markdown",
   "id": "5ceabd91",
   "metadata": {},
   "source": [
    "## Test"
   ]
  },
  {
   "cell_type": "code",
   "execution_count": null,
   "id": "bbb23cf9",
   "metadata": {
    "vscode": {
     "languageId": "plaintext"
    }
   },
   "outputs": [],
   "source": [
    "import dc2"
   ]
  }
 ],
 "metadata": {
  "language_info": {
   "name": "python"
  }
 },
 "nbformat": 4,
 "nbformat_minor": 5
}
